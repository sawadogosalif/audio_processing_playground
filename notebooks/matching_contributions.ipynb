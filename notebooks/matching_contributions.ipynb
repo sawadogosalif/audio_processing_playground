{
 "cells": [
  {
   "cell_type": "code",
   "execution_count": null,
   "metadata": {},
   "outputs": [
    {
     "data": {
      "text/plain": [
       "True"
      ]
     },
     "execution_count": 174,
     "metadata": {},
     "output_type": "execute_result"
    }
   ],
   "source": [
    "from dotenv import load_dotenv\n",
    "import os\n",
    "import re\n",
    "import urllib\n",
    "from loguru import logger\n",
    "import pandas as pd\n",
    "from pathlib import Path\n",
    "\n",
    "\n",
    "import pandas as pd\n",
    "from pydub import AudioSegment\n",
    "import openpyxl\n",
    "from tqdm import tqdm\n",
    "from datasets import Dataset, Audio, Features, Value, concatenate_datasets\n",
    "\n",
    "load_dotenv(\"vars.env\")"
   ]
  },
  {
   "cell_type": "code",
   "execution_count": null,
   "metadata": {},
   "outputs": [],
   "source": [
    "def extract_audio_identifier(url):\n",
    "    parts = url.strip(\"/\").split(\"/\")\n",
    "    return urllib.parse.unquote(parts[-2]), int(parts[-1].replace(\"page_\",\"\"))\n",
    "\n",
    "def remove_digits_and_numbers(text):\n",
    "  \"\"\"\n",
    "  Removes digits and numbers from the beginning of a string and keeps the remaining text.\n",
    "  \"\"\"\n",
    "  match = re.match(r'^[\\d\\s]+', text)\n",
    "  if match:\n",
    "    return text[match.end():].strip()\n",
    "  else:\n",
    "    return text\n",
    "  \n",
    "\n",
    "def time_to_milliseconds(time_str):\n",
    "    \"\"\"Converts time string (MM:SS or HH:MM:SS) to milliseconds.\"\"\"\n",
    "    try:\n",
    "        parts = time_str.split(\":\")\n",
    "        if len(parts) == 2:  # MM:SS format\n",
    "            minutes, seconds = map(int, parts)\n",
    "            return (minutes * 60 + seconds) * 1000\n",
    "        elif len(parts) == 3:  # HH:MM:SS format\n",
    "            minutes, seconds, milli_second = map(int, parts)\n",
    "            return (minutes * 60 + seconds  + milli_second/10000) * 1000\n",
    "        else:\n",
    "            print(f\"Error: Invalid time format '{time_str}'\")\n",
    "            return 0  # Return 0 milliseconds if invalid format\n",
    "    except ValueError as e:\n",
    "        print(f\"Error parsing time string '{time_str}': {e}\")\n",
    "        return 0  \n",
    "    \n",
    "\n",
    "\n",
    "def get_audio_paths(folder: str) -> list[str]:\n",
    "    def extract_number(file_path: str) -> int:\n",
    "        match = re.search(r\"segment_(\\d+)\", file_path)\n",
    "        return int(match.group(1)) if match else float(\"inf\")\n",
    "    audio_paths = list(Path(folder).glob(\"*.mp3\"))\n",
    "    audio_paths = list(Path(folder).glob(\"*.mp3\"))\n",
    "    audio_paths = [audio_path.as_posix() for audio_path in audio_paths]\n",
    "    audio_paths = sorted(audio_paths, key=extract_number)\n",
    "    return audio_paths\n"
   ]
  },
  {
   "cell_type": "code",
   "execution_count": 195,
   "metadata": {},
   "outputs": [],
   "source": [
    "\n",
    "def segment_audio_from_excel(chapter:str, excel_file:str, audio_file:str, dataset, output_folder=\"segments\"):\n",
    "    \"\"\"\n",
    "    Segments an audio file based on timestamps from an Excel file with multiple sheets.\n",
    "    \"\"\"\n",
    "\n",
    "    if not os.path.exists(output_folder):\n",
    "        os.makedirs(output_folder)\n",
    "    results= []\n",
    "\n",
    "    logger.info(\"read audios\")\n",
    "\n",
    "    wb = openpyxl.load_workbook(excel_file)\n",
    "    audio = AudioSegment.from_file(audio_file)\n",
    "  \n",
    "    for sheet_name in tqdm(wb.sheetnames):\n",
    "        logger.info(f\"start processing sheet {sheet_name}\")\n",
    "        df = pd.read_excel(excel_file, sheet_name=sheet_name)\n",
    "        os.makedirs(f\"{output_folder}/{sheet_name}\", exist_ok=True)\n",
    "        for index, row in df.iterrows():\n",
    "            start_time = row[\"debut partie\"]\n",
    "            end_time = row[\"fin partie\"]\n",
    "            start_ms = time_to_milliseconds(str(start_time))\n",
    "            end_ms = time_to_milliseconds(str(end_time))\n",
    "            segment = audio[start_ms:end_ms]\n",
    "            filename = f\"{output_folder}/{sheet_name}/segment_{index + 1}.mp3\"\n",
    "            segment.export(filename, format=\"mp3\")\n",
    "            print(f\"Segment saved: {filename}\")\n",
    "        page_id = int(sheet_name.replace(\"page_\", \"\"))\n",
    "        segments = get_audio_paths(f\"{output_folder}/{sheet_name}\")\n",
    "        sub_transcription_df = dataset[(dataset.page==page_id) & (dataset.chapter==chapter) ]\n",
    "        transcriptions = get_matches(df, sub_transcription_df)\n",
    "        audio_sequence = list(range(1, len(transcriptions) + 1))\n",
    "\n",
    "        results.append({\n",
    "            \"audio\":segments,\n",
    "            \"transcript\":transcriptions,\n",
    "            \"page\":[page_id]*len(segments),\n",
    "            \"audio_sequence\":audio_sequence\n",
    "        })\n",
    "    return results\n",
    "\n",
    "\n",
    "\n",
    "def get_verse_id(verse_number, base_id=\"v1041\"):\n",
    "    return f\"{base_id}{verse_number:03d}\"\n",
    "\n",
    "def get_matches(segment_data, transcription_df):\n",
    "    base_id = transcription_df.verse_id.iloc[0]\n",
    "    \n",
    "    base_id = base_id[:-4] if len(base_id)==9 else base_id[:-3]\n",
    "    try:\n",
    "        segment_data = segment_data[[\"debut verset\", \"fin verset\"]].copy()  # Use .copy() to avoid SettingWithCopyWarning\n",
    "        segment_data.loc[:, \"fin verset\"] = segment_data[\"fin verset\"].apply(lambda x: get_verse_id(x, base_id))\n",
    "        segment_data.loc[:, 'debut verset'] = segment_data['debut verset'].apply(lambda x: get_verse_id(x, base_id)) #add this line\n",
    "    except Exception as e:\n",
    "        raise e\n",
    "\n",
    "    segment_data.loc[:, 'debut_num'] = segment_data['debut verset'].str[1:].astype(int)\n",
    "    segment_data.loc[:, 'fin_num'] = segment_data['fin verset'].str[1:].astype(int)\n",
    "\n",
    "    transcription_df.loc[:, 'verse_num'] = transcription_df['verse_id'].str[1:].astype(int)\n",
    "\n",
    "    cross_df = segment_data.assign(key=1).merge(transcription_df.assign(key=1), on='key').drop('key', axis=1)\n",
    "\n",
    "    filtered_df = cross_df[\n",
    "        (cross_df['verse_num'] >= cross_df['debut_num']) &\n",
    "        (cross_df['verse_num'] <= cross_df['fin_num'])\n",
    "    ]\n",
    "\n",
    "    result_df = filtered_df.groupby(\n",
    "        ['debut verset', 'fin verset']\n",
    "    ).agg({\n",
    "        'moore_verse_text': lambda x: ' '.join(x)\n",
    "    }).reset_index()\n",
    "\n",
    "    return result_df[\"moore_verse_text\"].to_list()"
   ]
  },
  {
   "cell_type": "code",
   "execution_count": null,
   "metadata": {},
   "outputs": [
    {
     "name": "stderr",
     "output_type": "stream",
     "text": [
      "\u001b[32m2025-03-21 23:28:39.552\u001b[0m | \u001b[1mINFO    \u001b[0m | \u001b[36m__main__\u001b[0m:\u001b[36msegment_audio_from_excel\u001b[0m:\u001b[36m17\u001b[0m - \u001b[1mread audios\u001b[0m\n",
      "  0%|          | 0/2 [00:00<?, ?it/s]\u001b[32m2025-03-21 23:28:43.287\u001b[0m | \u001b[1mINFO    \u001b[0m | \u001b[36m__main__\u001b[0m:\u001b[36msegment_audio_from_excel\u001b[0m:\u001b[36m23\u001b[0m - \u001b[1mstart processing sheet page_41\u001b[0m\n"
     ]
    },
    {
     "name": "stdout",
     "output_type": "stream",
     "text": [
      "Segment saved: segments/page_41/segment_1.mp3\n",
      "Segment saved: segments/page_41/segment_2.mp3\n",
      "Segment saved: segments/page_41/segment_3.mp3\n",
      "Segment saved: segments/page_41/segment_4.mp3\n",
      "Segment saved: segments/page_41/segment_5.mp3\n",
      "Segment saved: segments/page_41/segment_6.mp3\n",
      "Segment saved: segments/page_41/segment_7.mp3\n",
      "Segment saved: segments/page_41/segment_8.mp3\n",
      "Segment saved: segments/page_41/segment_9.mp3\n",
      "Segment saved: segments/page_41/segment_10.mp3\n",
      "Segment saved: segments/page_41/segment_11.mp3\n",
      "Segment saved: segments/page_41/segment_12.mp3\n",
      "Segment saved: segments/page_41/segment_13.mp3\n",
      "Segment saved: segments/page_41/segment_14.mp3\n",
      "Segment saved: segments/page_41/segment_15.mp3\n",
      "Segment saved: segments/page_41/segment_16.mp3\n",
      "Segment saved: segments/page_41/segment_17.mp3\n",
      "Segment saved: segments/page_41/segment_18.mp3\n",
      "Segment saved: segments/page_41/segment_19.mp3\n",
      "Segment saved: segments/page_41/segment_20.mp3\n",
      "Segment saved: segments/page_41/segment_21.mp3\n",
      "Segment saved: segments/page_41/segment_22.mp3\n",
      "Segment saved: segments/page_41/segment_23.mp3\n",
      "Segment saved: segments/page_41/segment_24.mp3\n",
      "Segment saved: segments/page_41/segment_25.mp3\n",
      "Segment saved: segments/page_41/segment_26.mp3\n"
     ]
    },
    {
     "name": "stderr",
     "output_type": "stream",
     "text": [
      "C:\\Users\\sawal\\AppData\\Local\\Temp\\ipykernel_12508\\2282083267.py:60: FutureWarning: Setting an item of incompatible dtype is deprecated and will raise in a future error of pandas. Value '['v1041003' 'v1041006' 'v1041008' 'v1041011' 'v1041013' 'v1041016'\n",
      " 'v1041018' 'v1041021' 'v1041023' 'v1041025' 'v1041027' 'v1041029'\n",
      " 'v1041030' 'v1041032' 'v1041034' 'v1041036' 'v1041038' 'v1041040'\n",
      " 'v1041042' 'v1041043' 'v1041045' 'v1041047' 'v1041049' 'v1041051'\n",
      " 'v1041053' 'v1041055' 'v1041057']' has dtype incompatible with int64, please explicitly cast to a compatible dtype first.\n",
      "  segment_data.loc[:, \"fin verset\"] = segment_data[\"fin verset\"].apply(lambda x: get_verse_id(x, base_id))\n",
      "C:\\Users\\sawal\\AppData\\Local\\Temp\\ipykernel_12508\\2282083267.py:61: FutureWarning: Setting an item of incompatible dtype is deprecated and will raise in a future error of pandas. Value '['v1041001' 'v1041004' 'v1041007' 'v1041009' 'v1041012' 'v1041014'\n",
      " 'v1041017' 'v1041019' 'v1041022' 'v1041024' 'v1041026' 'v1041028'\n",
      " 'v1041029' 'v1041031' 'v1041033' 'v1041035' 'v1041037' 'v1041039'\n",
      " 'v1041041' 'v1041043' 'v1041044' 'v1041046' 'v1041048' 'v1041050'\n",
      " 'v1041052' 'v1041054' 'v1041056']' has dtype incompatible with int64, please explicitly cast to a compatible dtype first.\n",
      "  segment_data.loc[:, 'debut verset'] = segment_data['debut verset'].apply(lambda x: get_verse_id(x, base_id)) #add this line\n",
      "C:\\Users\\sawal\\AppData\\Local\\Temp\\ipykernel_12508\\2282083267.py:68: SettingWithCopyWarning: \n",
      "A value is trying to be set on a copy of a slice from a DataFrame.\n",
      "Try using .loc[row_indexer,col_indexer] = value instead\n",
      "\n",
      "See the caveats in the documentation: https://pandas.pydata.org/pandas-docs/stable/user_guide/indexing.html#returning-a-view-versus-a-copy\n",
      "  transcription_df.loc[:, 'verse_num'] = transcription_df['verse_id'].str[1:].astype(int)\n",
      " 50%|█████     | 1/2 [00:16<00:16, 16.22s/it]\u001b[32m2025-03-21 23:28:59.508\u001b[0m | \u001b[1mINFO    \u001b[0m | \u001b[36m__main__\u001b[0m:\u001b[36msegment_audio_from_excel\u001b[0m:\u001b[36m23\u001b[0m - \u001b[1mstart processing sheet page_42\u001b[0m\n"
     ]
    },
    {
     "name": "stdout",
     "output_type": "stream",
     "text": [
      "Segment saved: segments/page_41/segment_27.mp3\n",
      "Segment saved: segments/page_42/segment_1.mp3\n",
      "Segment saved: segments/page_42/segment_2.mp3\n",
      "Segment saved: segments/page_42/segment_3.mp3\n",
      "Segment saved: segments/page_42/segment_4.mp3\n",
      "Segment saved: segments/page_42/segment_5.mp3\n",
      "Segment saved: segments/page_42/segment_6.mp3\n",
      "Segment saved: segments/page_42/segment_7.mp3\n",
      "Segment saved: segments/page_42/segment_8.mp3\n",
      "Segment saved: segments/page_42/segment_9.mp3\n",
      "Segment saved: segments/page_42/segment_10.mp3\n",
      "Segment saved: segments/page_42/segment_11.mp3\n",
      "Segment saved: segments/page_42/segment_12.mp3\n",
      "Segment saved: segments/page_42/segment_13.mp3\n",
      "Segment saved: segments/page_42/segment_14.mp3\n",
      "Segment saved: segments/page_42/segment_15.mp3\n"
     ]
    },
    {
     "name": "stderr",
     "output_type": "stream",
     "text": [
      "C:\\Users\\sawal\\AppData\\Local\\Temp\\ipykernel_12508\\2282083267.py:60: FutureWarning: Setting an item of incompatible dtype is deprecated and will raise in a future error of pandas. Value '['v1042003' 'v1042005' 'v1042007' 'v1042010' 'v1042013' 'v1042016'\n",
      " 'v1042018' 'v1042021' 'v1042023' 'v1042025' 'v1042028' 'v1042032'\n",
      " 'v1042034' 'v1042036' 'v1042037' 'v1042038']' has dtype incompatible with int64, please explicitly cast to a compatible dtype first.\n",
      "  segment_data.loc[:, \"fin verset\"] = segment_data[\"fin verset\"].apply(lambda x: get_verse_id(x, base_id))\n",
      "C:\\Users\\sawal\\AppData\\Local\\Temp\\ipykernel_12508\\2282083267.py:61: FutureWarning: Setting an item of incompatible dtype is deprecated and will raise in a future error of pandas. Value '['v1042001' 'v1042004' 'v1042006' 'v1042008' 'v1042011' 'v1042014'\n",
      " 'v1042017' 'v1042019' 'v1042022' 'v1042024' 'v1042026' 'v1042029'\n",
      " 'v1042033' 'v1042035' 'v1042037' 'v1042038']' has dtype incompatible with int64, please explicitly cast to a compatible dtype first.\n",
      "  segment_data.loc[:, 'debut verset'] = segment_data['debut verset'].apply(lambda x: get_verse_id(x, base_id)) #add this line\n",
      "C:\\Users\\sawal\\AppData\\Local\\Temp\\ipykernel_12508\\2282083267.py:68: SettingWithCopyWarning: \n",
      "A value is trying to be set on a copy of a slice from a DataFrame.\n",
      "Try using .loc[row_indexer,col_indexer] = value instead\n",
      "\n",
      "See the caveats in the documentation: https://pandas.pydata.org/pandas-docs/stable/user_guide/indexing.html#returning-a-view-versus-a-copy\n",
      "  transcription_df.loc[:, 'verse_num'] = transcription_df['verse_id'].str[1:].astype(int)\n",
      "100%|██████████| 2/2 [00:31<00:00, 15.54s/it]\n"
     ]
    },
    {
     "name": "stdout",
     "output_type": "stream",
     "text": [
      "Segment saved: segments/page_42/segment_16.mp3\n"
     ]
    },
    {
     "name": "stderr",
     "output_type": "stream",
     "text": [
      "Casting the dataset: 100%|██████████| 27/27 [00:00<00:00, 574.47 examples/s]\n",
      "Casting the dataset: 100%|██████████| 16/16 [00:00<00:00, 1594.60 examples/s]\n",
      "100%|██████████| 2/2 [00:14<00:00,  7.18s/it]\n"
     ]
    }
   ],
   "source": [
    "excel_file = \"./Sɩngre.xlsx\"\n",
    "audio_file = \"./nwt_01_Ge_MM_41.mp3\"\n",
    "\n",
    "\n",
    "DATA_FILE = \"sawadogosalif/MooreFRCollections_BibleOnlyText\"\n",
    "dataset = load_dataset(DATA_FILE, split=\"train\").to_pandas()\n",
    "dataset[[\"chapter\", \"page\"]] = dataset[\"moore_source_url\"].apply(\n",
    "    lambda x: pd.Series(extract_audio_identifier(x))\n",
    ")\n",
    "dataset[\"moore_verse_text\"] = dataset[\"moore_verse_text\"].apply(remove_digits_and_numbers)\n",
    "\n",
    "\n",
    "\n",
    "chapter= \"Sɩngre\"\n",
    "results = segment_audio_from_excel(chapter, excel_file, audio_file, dataset, output_folder=\"segments\")\n",
    "\n",
    "\n",
    "dataset_list = []\n",
    "\n",
    "\n",
    "for result in tqdm(results):\n",
    "    dataset = Dataset.from_dict(result)\n",
    "    features = Features({\n",
    "            \"audio\": Audio(sampling_rate=48000),\n",
    "            \"transcript\": Value(\"string\"),\n",
    "            \"page\": Value(\"string\"),\n",
    "            \"audio_sequence\": Value(\"string\")\n",
    "        })\n",
    "    dataset = dataset.cast(features)\n",
    "\n",
    "    durations  = []\n",
    "    for example in dataset:\n",
    "        audio_path = example[\"audio\"]['path']\n",
    "        audio = AudioSegment.from_file(audio_path)\n",
    "        duration = len(audio) / 1000.0  # Convertir\n",
    "        durations.append(duration)\n",
    "    dataset = dataset.add_column(\"duration\", durations)\n",
    "    dataset_list.append(dataset)\n",
    "datasets = concatenate_datasets(dataset_list)"
   ]
  },
  {
   "cell_type": "code",
   "execution_count": 194,
   "metadata": {},
   "outputs": [
    {
     "name": "stderr",
     "output_type": "stream",
     "text": [
      "Saving the dataset (1/1 shards): 100%|██████████| 43/43 [00:00<00:00, 494.25 examples/s]\n"
     ]
    }
   ],
   "source": [
    "datasets.save_to_disk(f\"contribution_dataset_{chapter}\")"
   ]
  }
 ],
 "metadata": {
  "kernelspec": {
   "display_name": "base",
   "language": "python",
   "name": "python3"
  },
  "language_info": {
   "codemirror_mode": {
    "name": "ipython",
    "version": 3
   },
   "file_extension": ".py",
   "mimetype": "text/x-python",
   "name": "python",
   "nbconvert_exporter": "python",
   "pygments_lexer": "ipython3",
   "version": "3.12.9"
  }
 },
 "nbformat": 4,
 "nbformat_minor": 2
}
