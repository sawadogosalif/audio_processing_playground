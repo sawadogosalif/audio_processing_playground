{
 "cells": [
  {
   "cell_type": "code",
   "execution_count": null,
   "metadata": {},
   "outputs": [
    {
     "data": {
      "text/plain": [
       "True"
      ]
     },
     "execution_count": 1,
     "metadata": {},
     "output_type": "execute_result"
    }
   ],
   "source": [
    "from dotenv import load_dotenv\n",
    "import os\n",
    "import re\n",
    "from loguru import logger\n",
    "import boto3\n",
    "from pathlib import Path\n",
    "import urllib\n",
    "\n",
    "\n",
    "\n",
    "load_dotenv(\"vars.env\")"
   ]
  },
  {
   "cell_type": "code",
   "execution_count": null,
   "metadata": {},
   "outputs": [],
   "source": [
    "def download_file_from_s3(s3_client, bucket_name, s3_key, local_path):\n",
    "    \"\"\"Download a single file from S3.\"\"\"\n",
    "    os.makedirs(os.path.dirname(local_path), exist_ok=True)\n",
    "    s3_client.download_file(bucket_name, s3_key, local_path)\n",
    "    logger.info(f\"Downloaded {s3_key} to {local_path}\")\n",
    "\n",
    "def download_folder_from_s3(s3_client, bucket_name, s3_key):\n",
    "    \"\"\"Download a single file from S3.\"\"\"\n",
    "    # os.makedirs(os.path.dirname(local_folder), exist_ok=True)\n",
    "    os.makedirs(os.path.dirname(s3_key), exist_ok=True)\n",
    "\n",
    "    segments = list_s3_files(s3_client, bucket_name, s3_key)\n",
    "    for segment in segments:\n",
    "        download_file_from_s3(s3_client, bucket_name, segment,segment)\n",
    "        logger.info(f\"Downloaded {segment} to {s3_key}\")\n",
    "    logger.info(f\"End\")\n",
    "\n",
    "\n",
    "def list_s3_files(s3_client, bucket_name, prefix):\n",
    "    \"\"\"List all files in an S3 bucket under a given prefix.\"\"\"\n",
    "    paginator = s3_client.get_paginator(\"list_objects_v2\")\n",
    "    files = []\n",
    "    for page in paginator.paginate(Bucket=bucket_name, Prefix=prefix):\n",
    "        for obj in page.get(\"Contents\", []):\n",
    "            files.append(obj[\"Key\"])\n",
    "    return files\n",
    "\n",
    "\n",
    "\n",
    "\n",
    "\n",
    "\n",
    "def clean_and_split(text):\n",
    "    text = re.sub(r'^\\d+\\s*', '', text)\n",
    "    for char in [\"+\", \"”\", \"“\", \"’\", \"’”\", \"*\"]:\n",
    "        text = text.replace(char, \"\")\n",
    "    parts = re.split(r'[:;,.?,!]+', text)\n",
    "    return [part.strip() for part in parts if part.strip()]\n",
    "\n",
    "\n",
    "\n",
    "def get_audio_paths(folder: str) -> list[str]:\n",
    "        def extract_number(file_path: str) -> int:\n",
    "            match = re.search(r\"segment_(\\d+)\", file_path)\n",
    "            return int(match.group(1)) if match else float(\"inf\")\n",
    "        audio_paths = list(Path(folder).glob(\"*.mp3\"))\n",
    "        audio_paths = list(Path(folder).glob(\"*.mp3\"))\n",
    "        audio_paths = [audio_path.as_posix() for audio_path in audio_paths]\n",
    "        audio_paths = sorted(audio_paths, key=extract_number)\n",
    "        return audio_paths\n",
    "\n",
    "\n",
    "def extract_audio_identifier(url):\n",
    "    parts = url.strip(\"/\").split(\"/\")\n",
    "    return urllib.parse.unquote(parts[-2]), int(parts[-1].replace(\"page_\",\"\"))\n"
   ]
  },
  {
   "cell_type": "code",
   "execution_count": 3,
   "metadata": {},
   "outputs": [],
   "source": [
    "# Clients configuration\n",
    "access_key = os.getenv(\"AWS_ACCESS_KEY_ID\")\n",
    "secret_key = os.getenv(\"AWS_SECRET_ACCESS_KEY\")\n",
    "endpoint_url = os.getenv(\"AWS_ENDPOINT_URL_S3\")\n",
    "\n",
    "s3_client = boto3.client(\n",
    "    \"s3\",\n",
    "    aws_access_key_id=access_key,\n",
    "    aws_secret_access_key=secret_key,\n",
    "    endpoint_url=endpoint_url,\n",
    ")"
   ]
  },
  {
   "cell_type": "code",
   "execution_count": null,
   "metadata": {},
   "outputs": [],
   "source": [
    "BUCKET_NAME = \"moore-collection\"\n",
    "SOURCE_FOLDER = \"fasoai-segmented_audios\""
   ]
  },
  {
   "cell_type": "code",
   "execution_count": 189,
   "metadata": {},
   "outputs": [],
   "source": [
    "from datasets import load_dataset\n",
    "import pandas as pd\n",
    "\n",
    "DATA_FILE = \"sawadogosalif/MooreFRCollections_BibleOnlyText\"\n",
    "dataset = load_dataset(DATA_FILE, split=\"train\").to_pandas()\n",
    "dataset[[\"chapter\", \"page\"]] = dataset[\"moore_source_url\"].apply(\n",
    "    lambda x: pd.Series(extract_audio_identifier(x))\n",
    ")\n"
   ]
  },
  {
   "cell_type": "code",
   "execution_count": null,
   "metadata": {},
   "outputs": [],
   "source": [
    "def merge_transcriptions_for_audio(transcription_list, merge_start_index, num_transcriptions_to_merge):\n",
    "    \"\"\"\n",
    "    Fusionne plusieurs transcriptions consécutives pour correspondre à un seul fichier audio \n",
    "    et gère le décalage des index en conséquence.\n",
    "\n",
    "    \"\"\"\n",
    "    aligned_transcripts = []\n",
    "    \n",
    "    # Traitement des éléments avant l'index de fusion\n",
    "    for i in range(merge_start_index):\n",
    "        aligned_transcripts.append(transcription_list[i])\n",
    "    \n",
    "    # Fusion des transcriptions spécifiées\n",
    "    transcriptions_to_merge = transcription_list[merge_start_index:merge_start_index + num_transcriptions_to_merge]\n",
    "    merged_transcription = \" \".join(transcriptions_to_merge)\n",
    "    \n",
    "    # Ajouter les transcriptions fusionnées\n",
    "    aligned_transcripts.append(merged_transcription)\n",
    "    \n",
    "    for i in range(merge_start_index + num_transcriptions_to_merge, len(transcription_list)):\n",
    "        aligned_transcripts.append(transcription_list[i])\n",
    "    \n",
    "    return aligned_transcripts\n",
    "\n",
    "\n",
    "def split_trnascription(transcriptions, split_word, index):\n",
    "\n",
    "    if index < 0 or index >= len(transcriptions):\n",
    "        raise IndexError(\"L'index est hors de portée de la liste.\")\n",
    "    \n",
    "    element = transcriptions[index]\n",
    "    pos = element.find(split_word)\n",
    "    \n",
    "    if pos == -1:\n",
    "        return transcriptions\n",
    "    \n",
    "    left_part = element[:pos + len(split_word)]\n",
    "    right_part = element[pos + len(split_word):]\n",
    "    \n",
    "    nouvelle_liste = transcriptions[:index] + [left_part, right_part] + transcriptions[index+1:]\n",
    "    \n",
    "    return nouvelle_liste\n"
   ]
  },
  {
   "cell_type": "code",
   "execution_count": null,
   "metadata": {},
   "outputs": [
    {
     "name": "stderr",
     "output_type": "stream",
     "text": [
      "  0%|          | 0/30 [00:00<?, ?it/s]"
     ]
    },
    {
     "name": "stdout",
     "output_type": "stream",
     "text": [
      "Folder fasoai-segmented_audios/Sɩngre/page_21 already exists\n",
      "103 99\n"
     ]
    },
    {
     "name": "stderr",
     "output_type": "stream",
     "text": [
      "\n"
     ]
    }
   ],
   "source": [
    "# run the code step by step , \n",
    "# break for each element loop\n",
    "\n",
    "pages= [f\"fasoai-segmented_audios/Sɩngre/page_{i}\" for i in range(21, 51)]\n",
    "\n",
    "\n",
    "from tqdm import tqdm\n",
    "for page in tqdm(pages):\n",
    "    if os.path.exists(page) and os.path.isdir(page):\n",
    "        print(f\"Folder {page} already exists\")\n",
    "    else:\n",
    "        download_folder_from_s3(s3_client, BUCKET_NAME, page)\n",
    " \n",
    "    paths = get_audio_paths(page)\n",
    "    if  \"page_1\" in pages :\n",
    "        paths = paths[3:]\n",
    "    else : \n",
    "        paths = paths[2:]\n",
    "    chapter, page = extract_audio_identifier(page)\n",
    "    tmp = dataset[(dataset.page==page) & (dataset.chapter==chapter)]\n",
    "    lists = tmp[\"moore_verse_text\"].apply(clean_and_split).to_list()\n",
    "    transcriptions = sum(lists, [])\n",
    "    # transcriptions = [transcript.strip() for transcript in transcriptions] ]\n",
    "    # transcriptions.remove(\"*\")\n",
    "    print(len(transcriptions), len(paths))\n",
    "\n",
    "    if len(transcriptions) == len(paths):\n",
    "        data_dict = {\n",
    "        \"audio\": paths,\n",
    "        \"transcript\": transcriptions\n",
    "    }\n",
    "        print(chapter, page)\n",
    "    break"
   ]
  },
  {
   "cell_type": "code",
   "execution_count": 198,
   "metadata": {},
   "outputs": [
    {
     "name": "stdout",
     "output_type": "stream",
     "text": [
      "Woto\n"
     ]
    },
    {
     "data": {
      "text/plain": [
       "(99, 99)"
      ]
     },
     "execution_count": 198,
     "metadata": {},
     "output_type": "execute_result"
    }
   ],
   "source": [
    "\n",
    "# Alignement\n",
    "parts= []\n",
    "merge_start_index  = 91 #21 #7 #17 1 #28-3\n",
    "print(transcriptions[merge_start_index])\n",
    "transcriptions = merge_transcriptions_for_audio(transcriptions, merge_start_index, 2)\n",
    "len(transcriptions), len(paths)"
   ]
  },
  {
   "cell_type": "code",
   "execution_count": 177,
   "metadata": {},
   "outputs": [
    {
     "data": {
      "text/plain": [
       "(67, 64)"
      ]
     },
     "execution_count": 177,
     "metadata": {},
     "output_type": "execute_result"
    }
   ],
   "source": [
    "transcriptions = split_trnascription(transcriptions, \"mam rũm-kɩɩmbã\", 23)\n",
    "len(transcriptions), len(paths)"
   ]
  },
  {
   "cell_type": "code",
   "execution_count": null,
   "metadata": {},
   "outputs": [],
   "source": [
    "data = {\n",
    "    \"audio\": paths,\n",
    "    \"transcript\": transcriptions\n",
    "}\n",
    "\n",
    "with open('output/page_21.json', 'w', encoding='utf-8') as f:\n",
    "    json.dump(data, f, ensure_ascii=False, indent=4)\n"
   ]
  },
  {
   "cell_type": "code",
   "execution_count": 197,
   "metadata": {},
   "outputs": [
    {
     "name": "stdout",
     "output_type": "stream",
     "text": [
      "3 A Zeova tẽega a Saara yell wa a sẽn da yeelã\n",
      "4 A Zeova pidsa bũmb ning a sẽn da pʋlem a Saara wɛɛngẽ wã\n",
      "5 Dẽ a Saara rɩka pʋg n dog bi-ribl n kõ a Abrahaam a kʋʋlem wakate\n",
      "6 wakat ning Wẽnnaam sẽn da pʋlm-a wã\n",
      "7 A Abrahaam pʋda a bi-pɛɛlgã a Saara sẽn dog n kõ-a wã ta Izaake\n",
      "8 A Abrahaam kẽesa a biig a Izaak bãong a sẽn wa n tar rasem a nii\n",
      "9 wa Wẽnnaam sẽn da yeel-a wã\n",
      "10 B sẽn wa n na n dog a Abrahaam biig a Izaakã ta Abrahaam tara yʋʋm koabga\n",
      "11 Dẽ\n",
      "12 a Saara yeelame yaa\n",
      "13 Wẽnnaam kɩtame tɩ mam la ne sũ-noogo\n",
      "14 Ned ning fãa sẽn na n wʋm yãoã na n laa ne maam\n",
      "15 A paasame\n",
      "16 Ãnda n da na n yeel a Abrahaam ta ‘Saara na n yẽsma kamba\n",
      "17 Baa ne rẽ\n",
      "18 mam doga bi-ribl n kõ-a a kʋʋlem wakate\n",
      "19 Biigã bɩɩme\n",
      "20 n bas bĩisim\n",
      "21 A Abrahaam maana tig-kãseng daar ning a Izaak sẽn bas bĩismã\n",
      "22 La a Saara ra neeme tɩ Ezɩpt ned a Agaar sẽn dog biig ning n kõ a Abrahaamã ra yaanda a Izaake\n",
      "23 Rẽ n so ta yeel a Abrahaam yaa\n",
      "24 Rig yem-poakã ne a biigã\n",
      "25 bala yem-pog-kãngã biigã pa na n naag mam biig a Izaak n deeg rogem-pʋɩɩr ye\n",
      "26 La bũmb ning a Saara sẽn yeel biigã wɛɛngẽ wã sãama a Abrahaam sũur wʋsgo\n",
      "27 Dẽ\n",
      "28 Wẽnnaam yeela a Abrahaam yaa\n",
      "29 Ra sãam f sũur ne bũmb ning a Saara sẽn yet foo biigã wɛɛngẽ\n",
      "30 la f yem-poakã wɛɛngẽ wã ye\n",
      "31 Kelg-a\n",
      "32 bala neb nins b sẽn na n bool tɩ fo yagensã na n yii a Izaak pendẽ wã\n",
      "33 La sã n yaa ne yem-poakã biigã\n",
      "34 mam na n kɩtame me ta yagensã lebg buudu\n",
      "35 bala a yaa fo biiga\n",
      "36 A Abrahaam yika yibeoog pĩnda\n",
      "37 n yãk bur la a rɩk ko-waoog ne koom n kõ a Agaare\n",
      "38 A rɩka bõn-kãens n palg a Agaar bãoko\n",
      "39 la a kɩt ta loog ne biigã\n",
      "40 Woto\n",
      "41 a loogame n tɩ be Bɛɛr-seba we-raoogẽ wã n yeebdẽ\n",
      "42 Koomã sẽn be waoogẽ wã wa n saame\n",
      "43 ta bas biigã tuug tẽngre\n",
      "44 Rẽ poore a zãaga bilf sẽn zems tãp pĩim tãoob n tɩ zĩnd a yembre\n",
      "45 bala a yeelame\n",
      "46 Mam pa rat n ges biigã kũum ye\n",
      "47 Dẽ\n",
      "48 a ra zĩi kɛɛnga\n",
      "49 n yãbd n wiisdẽ\n",
      "50 Wẽnnaam wʋma biigã koɛɛgã\n",
      "51 Wẽnnaam malɛkã paa saasẽ n bool a Agaar n yeel-a yaa\n",
      "52 Agaare\n",
      "53 bõe n tar foo\n",
      "54 Ra zoe rabeem ye\n",
      "55 Bala Wẽnnaam wʋma biigã koɛɛg a sẽn be zĩig ningã\n",
      "56 Yik n zẽk biigã\n",
      "57 la f gãd-a ne f nugu\n",
      "58 bala mam na n kɩtame ta lebg bu-kãsenga\n",
      "59 Rẽ poore\n",
      "60 Wẽnnaam puka a ninã ta yã bulga\n",
      "61 A kẽngame n tɩ pids waoogã ne koom\n",
      "62 n kõ biigã ta yũ\n",
      "63 La Wẽnnaam ra bee ne biigã a sẽn wa n bɩtẽ wã\n",
      "64 A ra vɩɩ we-raoogẽ wã\n",
      "65 n wa lebg ned sẽn mi tãp tãoobo\n",
      "66 A tilga a yir Paaran we-raoogẽ wã\n",
      "67 ta ma wã bao pag Ezɩpt soolmẽ wã n kõ-a\n",
      "68 Wakat kãnga\n",
      "69 a Abimelɛk ne a Fɩkoll sẽn yaa a tãb-biisã naabã yeela a Abrahaam yaa\n",
      "70 Wẽnnaam bee ne foom bũmb ning fãa fo sẽn maandã pʋgẽ\n",
      "71 Woto wã\n",
      "72 wẽen ne Wẽnnaam ka tɩ fo pa na n zãmb maam ne m kambã la m yagensã\n",
      "73 la tɩ fo na n maana maam ne tẽng ning pʋg fo sẽn be wã neb neere\n",
      "74 wa mam sẽn maan foom neerã\n",
      "75 Dẽ a Abrahaam yeelame\n",
      "76 Mam wẽendame tɩ m na n maana woto\n",
      "77 La a Abrahaam wilga a Abimelɛk ta sũur pa noomẽ\n",
      "78 bulgã a Abimelɛk tʋm-tʋmdbã sẽn deeg ne pãngã yĩnga\n",
      "79 A Abimelɛk leokame yaa\n",
      "80 Mam pa mi ned ning sẽn maan dẽ wã ye\n",
      "81 Fo pa gom rẽ yell ne maam ye\n",
      "82 La sã n pa rũndã\n",
      "83 mam zɩ n wʋm bũmb rẽ wɛɛngẽ ye\n",
      "84 A Abrahaam yãka piis ne niis n kõ a Abimelɛke\n",
      "85 Bãmb b yiibã maana kaoole\n",
      "86 A Abrahaam wa n welga pe-yãans a yopoe toore\n",
      "87 ta Abimelɛk sok a Abrahaam yaa\n",
      "88 Bõe yĩng tɩ fo welg pe-yãans a yopoe wã toore\n",
      "89 Ta yeele\n",
      "90 Fo segd n sak n deega pe-yãans a yopoe wã mam sẽn kõt foomã\n",
      "91 tɩ yɩ kaset tɩ yaa maam n tuk bulgã\n",
      "92 Yaa rẽ yĩng la a sẽn bool zĩ-kãng tɩ Bɛɛr-seba wã\n",
      "93 bala b yiibã fãa wẽena be\n",
      "94 Woto\n",
      "95 b maana kaool Bɛɛr-seba\n",
      "96 Rẽ zugẽ\n",
      "97 a Abimelɛk yika ne a Fɩkoll sẽn yaa a tãb-biisã naabã\n",
      "98 tɩ b leb Filisti nebã soolmẽ\n",
      "99 Rẽ poore\n",
      "100 a Abrahaam sela tamariis tɩɩg Bɛɛr-seba\n",
      "101 la a pẽg a Zeova sẽn yaa Wẽnnaam sẽn ka saabã yʋʋr be\n",
      "102 A Abrahaam zĩnda Filisti nebã soolmẽ n kaoos wʋsgo\n"
     ]
    }
   ],
   "source": [
    "for i , aligned_transcript  in enumerate(transcriptions):\n",
    "    print(i+3, aligned_transcript)\n",
    "    #1 SI TRANSCRIPTION +K ? SGEMENT k-1"
   ]
  }
 ],
 "metadata": {
  "kernelspec": {
   "display_name": "base",
   "language": "python",
   "name": "python3"
  },
  "language_info": {
   "codemirror_mode": {
    "name": "ipython",
    "version": 3
   },
   "file_extension": ".py",
   "mimetype": "text/x-python",
   "name": "python",
   "nbconvert_exporter": "python",
   "pygments_lexer": "ipython3",
   "version": "3.12.9"
  }
 },
 "nbformat": 4,
 "nbformat_minor": 2
}
